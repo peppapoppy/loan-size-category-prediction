{
 "cells": [
  {
   "cell_type": "markdown",
   "metadata": {},
   "source": [
    "## Feature Selection"
   ]
  },
  {
   "cell_type": "markdown",
   "metadata": {},
   "source": [
    "##### Just use a XGB model and train it on the preprocessed data and get the top features based on feature importance."
   ]
  },
  {
   "cell_type": "markdown",
   "metadata": {},
   "source": [
    "## Hyperparameter Tuning"
   ]
  },
  {
   "cell_type": "code",
   "execution_count": null,
   "metadata": {},
   "outputs": [],
   "source": [
    "from sklearn.model_selection import GridSearchCV"
   ]
  },
  {
   "cell_type": "code",
   "execution_count": null,
   "metadata": {},
   "outputs": [],
   "source": [
    "pt1 = {\n",
    "    'max_depth' : [4,6,8,10],\n",
    "    'min_child_weight' : [1,3,5,7,10]\n",
    "}\n",
    "gs1 = HalvingGridSearchCV(estimator = XGBClassifier(\n",
    "                                             learning_rate =0.1,\n",
    "                                             n_estimators=300,\n",
    "                                             gamma=0,\n",
    "                                             subsample=0.8,\n",
    "                                             colsample_bytree=0.8,\n",
    "                                             objective= 'multi:softmax',\n",
    "                                             #scale_pos_weight=2,\n",
    "                                             seed=27),\n",
    "                  param_grid = pt1,\n",
    "                  scoring = 'f1_macro',\n",
    "                  cv=5\n",
    "                  )\n",
    "\n",
    "gs1.fit(X,y)\n",
    "best_max_depth = gs1.best_params_['max_depth']\n",
    "best_min_child_weight = gs1.best_params_['min_child_weight']"
   ]
  },
  {
   "cell_type": "code",
   "execution_count": null,
   "metadata": {},
   "outputs": [],
   "source": [
    "pt2 = {\n",
    "    'gamma' : [0,0.2,0.4,0.6,0.8]\n",
    "}\n",
    "gs2 = GridSearchCV(estimator = XGBClassifier(\n",
    "                                             learning_rate =0.1,\n",
    "                                             n_estimators=300,\n",
    "                                             max_depth=best_max_depth,\n",
    "                                             min_child_weight=best_min_child_weight,\n",
    "                                             subsample=0.8,\n",
    "                                             colsample_bytree=0.8,\n",
    "                                             objective= 'multi:softmax',\n",
    "                                             #scale_pos_weight=2,\n",
    "                                             seed=27),\n",
    "                  param_grid = pt2,\n",
    "                  scoring = 'f1_macro',\n",
    "                  cv=5       \n",
    "                  )\n",
    "\n",
    "gs2.fit(X,y)\n",
    "best_gamma = gs2.best_params_['gamma']"
   ]
  },
  {
   "cell_type": "code",
   "execution_count": null,
   "metadata": {},
   "outputs": [],
   "source": [
    "pt3 = {\n",
    "    'subsample' : [4,6,8,10],\n",
    "    'colsample_bytree' : [1,3,5,7,10]\n",
    "}\n",
    "gs3 = GridSearchCV(estimator = XGBClassifier(\n",
    "                                             learning_rate =0.1,\n",
    "                                             n_estimators=300,\n",
    "                                             max_depth=best_max_depth,\n",
    "                                             min_child_weight=best_min_child_weight,\n",
    "                                             gamma=best_gamma,\n",
    "                                             objective= 'multi:softmax',\n",
    "                                             seed=27),\n",
    "                  param_grid = pt3,\n",
    "                  scoring = 'f1_macro',\n",
    "                  cv=5\n",
    "                  )\n",
    "\n",
    "gs3.fit(X,y)\n",
    "best_subsample = gs3.best_params_['subsample']\n",
    "best_colsample_bytree = gs3.best_params_['colsample_bytree']"
   ]
  },
  {
   "cell_type": "code",
   "execution_count": null,
   "metadata": {},
   "outputs": [],
   "source": [
    "pt4 = {\n",
    "    'learning_rate' : [0.02, 0.05,0.1],\n",
    "    'n_estimators' : [300,400,500]\n",
    "}\n",
    "gs4 = GridSearchCV(estimator = XGBClassifier(\n",
    "                                             max_depth=best_max_depth,\n",
    "                                             min_child_weight=best_min_child_weight,\n",
    "                                             gamma=best_gamma,\n",
    "                                             subsample=best_subsample,\n",
    "                                             colsample_bytree=best_colsample_bytree,\n",
    "                                             objective= 'multi:softmax',\n",
    "                                             seed=27),\n",
    "                  param_grid = pt4,\n",
    "                  scoring = 'f1_macro',\n",
    "                  cv=5\n",
    "                  )\n",
    "\n",
    "gs4.fit(X,y)\n",
    "best_learning_rate = gs4.best_params_['learning_rate']\n",
    "best_n_estimators = gs4.best_params_['n_estimators']"
   ]
  },
  {
   "cell_type": "code",
   "execution_count": null,
   "metadata": {},
   "outputs": [],
   "source": []
  }
 ],
 "metadata": {
  "kernelspec": {
   "display_name": "Python 3",
   "language": "python",
   "name": "python3"
  },
  "language_info": {
   "codemirror_mode": {
    "name": "ipython",
    "version": 3
   },
   "file_extension": ".py",
   "mimetype": "text/x-python",
   "name": "python",
   "nbconvert_exporter": "python",
   "pygments_lexer": "ipython3",
   "version": "3.9.1"
  }
 },
 "nbformat": 4,
 "nbformat_minor": 4
}
